{
 "cells": [
  {
   "cell_type": "code",
   "execution_count": 1,
   "id": "864dccd5",
   "metadata": {},
   "outputs": [
    {
     "name": "stdout",
     "output_type": "stream",
     "text": [
      "Collecting mnemonic\n",
      "  Downloading mnemonic-0.20-py3-none-any.whl (62 kB)\n",
      "     ---------------------------------------- 62.0/62.0 kB 1.7 MB/s eta 0:00:00\n",
      "Installing collected packages: mnemonic\n",
      "Successfully installed mnemonic-0.20\n"
     ]
    }
   ],
   "source": [
    "!pip install mnemonic"
   ]
  },
  {
   "cell_type": "code",
   "execution_count": 2,
   "id": "142dbe57",
   "metadata": {},
   "outputs": [],
   "source": [
    "from mnemonic import Mnemonic"
   ]
  },
  {
   "cell_type": "raw",
   "id": "d303cd7a",
   "metadata": {},
   "source": [
    "Initialize class instance, picking from available dictionaries:\n",
    "\n",
    "english\n",
    "\n",
    "chinese_simplified\n",
    "\n",
    "chinese_traditional\n",
    "\n",
    "french\n",
    "\n",
    "italian\n",
    "\n",
    "japanese\n",
    "\n",
    "korean\n",
    "\n",
    "spanish"
   ]
  },
  {
   "cell_type": "code",
   "execution_count": 4,
   "id": "96f42d9d",
   "metadata": {},
   "outputs": [],
   "source": [
    "mnemonic_phrase=Mnemonic(\"English\")"
   ]
  },
  {
   "cell_type": "raw",
   "id": "2354dfa5",
   "metadata": {},
   "source": [
    "Generate word list given the strength (128 - 256):"
   ]
  },
  {
   "cell_type": "code",
   "execution_count": 5,
   "id": "a88b7c88",
   "metadata": {},
   "outputs": [],
   "source": [
    "words=mnemonic_phrase.generate(strength=128)"
   ]
  },
  {
   "cell_type": "code",
   "execution_count": 6,
   "id": "5338fb9a",
   "metadata": {},
   "outputs": [
    {
     "data": {
      "text/plain": [
       "'later address sleep split dizzy burst domain novel search pyramid table sting'"
      ]
     },
     "execution_count": 6,
     "metadata": {},
     "output_type": "execute_result"
    }
   ],
   "source": [
    "words"
   ]
  },
  {
   "cell_type": "raw",
   "id": "27eb6ffd",
   "metadata": {},
   "source": [
    "Given the word list and custom passphrase (empty in example), generate seed:"
   ]
  },
  {
   "cell_type": "code",
   "execution_count": 11,
   "id": "0cdf1f7c",
   "metadata": {},
   "outputs": [],
   "source": [
    "seed=mnemonic_phrase.to_seed(words,passphrase=\"\")"
   ]
  },
  {
   "cell_type": "code",
   "execution_count": 12,
   "id": "aaba23f8",
   "metadata": {},
   "outputs": [
    {
     "data": {
      "text/plain": [
       "b'Va\\xa1K\\x07\\x95\\xe6\\xb9\\xec\\xf4a\\xe3\\x9f\\xb87X\\xab\\xcePr\\xd35\\x87|SWK\\xb6.\\x13\\xd0\\x16\\xc6\\x08\\x9a\\xe0R\\x19Q\\x00\\xd5\\xdd\\x9f\\xc2\\x10\\x96\\xe7\\xb0\\xcb<7\\x9fU\\xc9d=,Z\\x150\\xdc\\xe6\\xe2\\xcc'"
      ]
     },
     "execution_count": 12,
     "metadata": {},
     "output_type": "execute_result"
    }
   ],
   "source": [
    "seed"
   ]
  },
  {
   "cell_type": "raw",
   "id": "6730f749",
   "metadata": {},
   "source": [
    " calculate original entropy:"
   ]
  },
  {
   "cell_type": "code",
   "execution_count": 13,
   "id": "17e214b4",
   "metadata": {},
   "outputs": [],
   "source": [
    "entropy=mnemonic_phrase.to_entropy(words)"
   ]
  },
  {
   "cell_type": "code",
   "execution_count": 14,
   "id": "b01339f4",
   "metadata": {},
   "outputs": [
    {
     "data": {
      "text/plain": [
       "bytearray(b'}@o,\\xe9\\x14\\x02=\\x90<\\xb8\\xc2\\x15\\xe3s\\xea')"
      ]
     },
     "execution_count": 14,
     "metadata": {},
     "output_type": "execute_result"
    }
   ],
   "source": [
    "entropy"
   ]
  }
 ],
 "metadata": {
  "kernelspec": {
   "display_name": "Python 3 (ipykernel)",
   "language": "python",
   "name": "python3"
  },
  "language_info": {
   "codemirror_mode": {
    "name": "ipython",
    "version": 3
   },
   "file_extension": ".py",
   "mimetype": "text/x-python",
   "name": "python",
   "nbconvert_exporter": "python",
   "pygments_lexer": "ipython3",
   "version": "3.9.13"
  }
 },
 "nbformat": 4,
 "nbformat_minor": 5
}
