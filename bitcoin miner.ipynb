{
 "cells": [
  {
   "cell_type": "code",
   "execution_count": 5,
   "id": "ee8fc1f8",
   "metadata": {},
   "outputs": [],
   "source": [
    "import hashlib\n",
    "import random\n",
    "import string\n",
    "import json\n",
    "import binascii\n",
    "import numpy as np\n",
    "import pandas as pd\n",
    "import pylab as pl\n",
    "import logging\n",
    "import datetime\n",
    "import collections"
   ]
  },
  {
   "cell_type": "code",
   "execution_count": 6,
   "id": "530d6457",
   "metadata": {},
   "outputs": [],
   "source": [
    "#importing libraries for creating digital  signature"
   ]
  },
  {
   "cell_type": "code",
   "execution_count": 7,
   "id": "74959a49",
   "metadata": {},
   "outputs": [],
   "source": [
    "#!pip install pycryptodomex"
   ]
  },
  {
   "cell_type": "code",
   "execution_count": 8,
   "id": "5ba40366",
   "metadata": {},
   "outputs": [],
   "source": [
    "from Cryptodome.Cipher import AES \n",
    "from Cryptodome.Hash import SHA256\n",
    "from Cryptodome.PublicKey import RSA\n",
    "from Cryptodome.Signature import PKCS1_v1_5"
   ]
  },
  {
   "cell_type": "code",
   "execution_count": 9,
   "id": "4656df2e",
   "metadata": {},
   "outputs": [],
   "source": [
    "import Cryptodome\n",
    "class Client:\n",
    "    def __init__(self):\n",
    "        random = Cryptodome.Random.new().read\n",
    "        self._private_key = RSA.generate(1024, random)\n",
    "        self._public_key = self._private_key.publickey()\n",
    "        self._signer = PKCS1_v1_5.new(self._private_key)\n",
    "        self.identity=binascii.hexlify(self._public_key.exportKey(format='DER')).decode('ascii')"
   ]
  },
  {
   "cell_type": "code",
   "execution_count": 11,
   "id": "2f59371a",
   "metadata": {},
   "outputs": [],
   "source": [
    "indrani=Client()"
   ]
  },
  {
   "cell_type": "code",
   "execution_count": 12,
   "id": "e75bdef2",
   "metadata": {},
   "outputs": [
    {
     "data": {
      "text/plain": [
       "RsaKey(n=92904660305453310333814842317974057765399801338673662274058784177681984648050823529975625231504755356109448915931971860686733552420074869248532467008089874913319020324958999839077904646229444597910876340441263003327816877328645208924302348528075208163866522138794218372199763884617856971577856588096954554509, e=65537, d=24264904869744484992964411797255930951528882913683523462243682328598845403675571758893339290594120839076024796588302216143168259407272556524209686707927949996487215656025408644219368967088092432470602616697919923755660470896467368447488117592947165126745421931615920623599711064392417755629489908035884358093, p=9634919945361687129520527492686490437835687520288171778900792418485016731813769565853918289431967512972224608421214160862764561885728676223098489702114599, q=9642494263813599777877339639978898186890351773199518909933979300928904670190975088848253007230837265233203762674536735269407309235106271974080660138274091, u=338851487432835630448243018178712791784490714311299418192617768812482595919582196819299291502495262010707674677792768514634728383320012878517368222412847)"
      ]
     },
     "execution_count": 12,
     "metadata": {},
     "output_type": "execute_result"
    }
   ],
   "source": [
    "indrani._private_key"
   ]
  },
  {
   "cell_type": "code",
   "execution_count": 13,
   "id": "534873c2",
   "metadata": {},
   "outputs": [
    {
     "data": {
      "text/plain": [
       "'30819f300d06092a864886f70d010101050003818d0030818902818100844cf5f1fbc5669581408fa33a3e4e40b260ffa7fa37e7652601b62957b29bd3d0ba15984d90993cd41c2235ae8915cee2957cdb9d34087d161908f706482e7197e00ccdf0e38d8a930acb8615c67e9fb7af6d6e9fea7dc2a29272da5badb057830727f8528af057c63e7e9f260cb30eda0b3d37b9b23ed2a2fc0f462711d88d0203010001'"
      ]
     },
     "execution_count": 13,
     "metadata": {},
     "output_type": "execute_result"
    }
   ],
   "source": [
    "indrani.identity"
   ]
  },
  {
   "cell_type": "code",
   "execution_count": 7,
   "id": "48977653",
   "metadata": {},
   "outputs": [],
   "source": [
    "c1=Client()\n",
    "c2=Client()\n",
    "c3=Client()"
   ]
  },
  {
   "cell_type": "code",
   "execution_count": 8,
   "id": "34a16872",
   "metadata": {},
   "outputs": [
    {
     "data": {
      "text/plain": [
       "'30819f300d06092a864886f70d010101050003818d0030818902818100d002b5ab629804bccc208016ad30ace89e5aa91a2283809f4d0b0e8c233ee221283a178f7f8c56ab08c7e3438267aba3ad144e9d6e8f60338f6fd2da4f19f976d2804014f3e31d42b871a5b85dfad4c00cdb8865c6497711b5b9725f36238fa73d3353ad12f192de62491b44ef780c75b7e864a056a8d10ad0601fa6ba61cf110203010001'"
      ]
     },
     "execution_count": 8,
     "metadata": {},
     "output_type": "execute_result"
    }
   ],
   "source": [
    "c1.identity"
   ]
  },
  {
   "cell_type": "code",
   "execution_count": 9,
   "id": "75a03fb7",
   "metadata": {},
   "outputs": [
    {
     "data": {
      "text/plain": [
       "RsaKey(n=146069999935673632731201451485706402174806244846170273609417740117847643036112972604931748193324520752310744703443915731005250132232515685441622904579800631304894866351658029991516544447676001325484640634829597630217664501571461017896850335884257715079786803245180541866832754243838803667280334416523447881489, e=65537, d=687032935291078280809204684689091634807574728379876815235714457349688511312416250445858238561305575810607550770352427240831413602402810016286681726913400630645684241389524553432858711543605988428694511744043260287768406297519128160245474882495948358816877179737110932238216673251810444760853076431193740673, p=11271845745906164171909222895159199010048968748256703999940992663327231539070777325790454525435897794551975919997438942094105871042386461443468264442281889, q=12958835955391332396092579905968336502505546379916911118696590846937452619101254130588011607485696893533577675664732526487826843994473707688774467783596401, u=9721206732675323902153528348479085480213566451527690519407012275214376547392178369064198460151584910710772020407952179871596316002724636879922823974565737)"
      ]
     },
     "execution_count": 9,
     "metadata": {},
     "output_type": "execute_result"
    }
   ],
   "source": [
    "c1._private_key"
   ]
  },
  {
   "cell_type": "code",
   "execution_count": 10,
   "id": "ed80be76",
   "metadata": {},
   "outputs": [],
   "source": [
    "noonce_limit=1000000000000000000000000000"
   ]
  },
  {
   "cell_type": "code",
   "execution_count": 11,
   "id": "3a6479fb",
   "metadata": {},
   "outputs": [],
   "source": [
    "def encrypt(msg):\n",
    "    return hashlib.sha256(msg.encode('ascii')).hexdigest()"
   ]
  },
  {
   "cell_type": "code",
   "execution_count": 12,
   "id": "a92b5227",
   "metadata": {},
   "outputs": [
    {
     "data": {
      "text/plain": [
       "'527733b75903cf5b3c855b13b10828d81d2fedf406ded2223c2fab2584e3cbf8'"
      ]
     },
     "execution_count": 12,
     "metadata": {},
     "output_type": "execute_result"
    }
   ],
   "source": [
    "encrypt(\"Indrani Sen\")"
   ]
  },
  {
   "cell_type": "code",
   "execution_count": 13,
   "id": "00125587",
   "metadata": {},
   "outputs": [],
   "source": [
    "def mine(block_no,difficulty):\n",
    "    assert difficulty>1\n",
    "    prefix=\"0\"*difficulty\n",
    "    for i in range(noonce_limit):\n",
    "        digest=encrypt(str(block_no)+str(i))\n",
    "        \n",
    "        if digest.startswith(prefix):\n",
    "            print(\"mining successful, found hash\" +digest + \" with noonce \"+str(i))\n",
    "            return digest\n",
    "         \n",
    "    print (\"mining unsuccessful\")\n",
    "    print(digest)\n",
    "    return -1\n",
    "    "
   ]
  },
  {
   "cell_type": "code",
   "execution_count": 14,
   "id": "70ab7017",
   "metadata": {},
   "outputs": [
    {
     "name": "stdout",
     "output_type": "stream",
     "text": [
      "mining successful, found hash0001b862059b370f213d1ff03996d3530db39d7cc10ad8629b24b728b856b232 with noonce 5155\n"
     ]
    },
    {
     "data": {
      "text/plain": [
       "'0001b862059b370f213d1ff03996d3530db39d7cc10ad8629b24b728b856b232'"
      ]
     },
     "execution_count": 14,
     "metadata": {},
     "output_type": "execute_result"
    }
   ],
   "source": [
    "\n",
    "mine(20,3)"
   ]
  },
  {
   "cell_type": "code",
   "execution_count": 15,
   "id": "790014c3",
   "metadata": {},
   "outputs": [],
   "source": [
    "#!pip install Cryptodome"
   ]
  },
  {
   "cell_type": "code",
   "execution_count": 16,
   "id": "49a3750b",
   "metadata": {},
   "outputs": [
    {
     "name": "stdout",
     "output_type": "stream",
     "text": [
      "30819f300d06092a864886f70d010101050003818d0030818902818100db599dc77fdd401d87eabce9307483463fcb97495d8aecbd4b5d634246dbb8344187092091c82125ccb445da85a7af13f81521bcc5656fb1b32d3854b3fd3d8a64f8cea5f4c316842e7cde8a6a79a2c19a168e01cd9fb146f7a7387c8feec33afb58a5515e76626e5753955c50582fb7c0640e078bd8ac7ccc000aba95d878cb0203010001\n"
     ]
    }
   ],
   "source": [
    "Dinesh = Client()\n",
    "print (Dinesh.identity)"
   ]
  },
  {
   "cell_type": "code",
   "execution_count": 108,
   "id": "5fc13f53",
   "metadata": {},
   "outputs": [],
   "source": [
    "import datetime\n",
    "from collections import OrderedDict\n",
    "from Cryptodome.Hash import SHA\n",
    "class transaction:\n",
    "    def __init__(self,sender,receiver,value):\n",
    "        self.sender=sender\n",
    "        self.receiver=receiver\n",
    "        self.value=value\n",
    "        self.time=datetime.datetime.now()\n",
    "    def execute(self):\n",
    "        if self.sender == \"Genesis\":\n",
    "            identity = \"Genesis\"\n",
    "        else:\n",
    "            identity = self.sender.identity\n",
    "\n",
    "        return OrderedDict({'sender': identity,'recipient': self.receiver.identity,'value': self.value,'time' : self.time})\n",
    "        \n",
    "    def sign_transaction(self):\n",
    "        private_key = self.sender._private_key\n",
    "        signer = PKCS1_v1_5.new(private_key)\n",
    "        h = SHA.new(str(self.execute()).encode('utf8'))\n",
    "        return binascii.hexlify(signer.sign(h)).decode('ascii')\n",
    "    def display_transaction(self):\n",
    "        print(self.sender.identity)\n",
    "        print(self.receiver.identity)\n",
    "        print(self.value)\n",
    "        print(self.time)\n",
    "    "
   ]
  },
  {
   "cell_type": "code",
   "execution_count": 109,
   "id": "c8f80014",
   "metadata": {},
   "outputs": [],
   "source": [
    "A=Client()\n",
    "B=Client()"
   ]
  },
  {
   "cell_type": "code",
   "execution_count": 110,
   "id": "f6fa8dcb",
   "metadata": {},
   "outputs": [],
   "source": [
    "t1=transaction(B,A,5)"
   ]
  },
  {
   "cell_type": "code",
   "execution_count": 111,
   "id": "7ac3612f",
   "metadata": {},
   "outputs": [
    {
     "data": {
      "text/plain": [
       "'1c2d7ad0aeaa9696ada1c1960e1994037746c3b6790eee32c65bf9e55d7af0ce11aa7716a150c8d3aea5cd7f0e5ad98fcb6e72b8e1d80d6dfa783ef59bf8310176ea424973680d08ec299c4fbde62c09beb03b5e77a7cf9449fcd51c42248fdf089b9e44a0bede7021c2172bcf597c6532b74a8893b028adffa9741f4a31688c'"
      ]
     },
     "execution_count": 111,
     "metadata": {},
     "output_type": "execute_result"
    }
   ],
   "source": [
    "t1.sign_transaction()"
   ]
  },
  {
   "cell_type": "code",
   "execution_count": 112,
   "id": "221c35e6",
   "metadata": {},
   "outputs": [
    {
     "data": {
      "text/plain": [
       "OrderedDict([('sender',\n",
       "              '30819f300d06092a864886f70d010101050003818d0030818902818100abdbb5d8780ce39f2c7f3bbb305462ba890311884cb115b07fbea17062d6beab9c79b0f91898352e13e8594a09b6990d8237699b3711f3c0855d9747d73a596d145e15ad23c669ed77c0b86ff21d11294128c25cdc2f52a64cc34724f2a2696cd8959702cd14ad0bbb62415dfc235282523d50f6db83cdd714c91ce4c1ccefe50203010001'),\n",
       "             ('recipient',\n",
       "              '30819f300d06092a864886f70d010101050003818d0030818902818100bd6aec42894a488d4e78047f0656f5f14dfdfc3fa747f953de4fb83948fcb8706acc400ac18b25bb41f408777010fcc25ae234af098117da8a43ce2b7eabed0112665c7e5022b9b98de69cd9a88ad00e5906b7e40a3e755e576296d83ec2301199c50bd21e7262b4da79e9328c4292be25486a0a20b80c8a7ac462a0da17ce4d0203010001'),\n",
       "             ('value', 5),\n",
       "             ('time', datetime.datetime(2023, 1, 27, 1, 29, 27, 408152))])"
      ]
     },
     "execution_count": 112,
     "metadata": {},
     "output_type": "execute_result"
    }
   ],
   "source": [
    "t1.execute()"
   ]
  },
  {
   "cell_type": "code",
   "execution_count": 144,
   "id": "f8b8abb1",
   "metadata": {},
   "outputs": [
    {
     "name": "stdout",
     "output_type": "stream",
     "text": [
      "30819f300d06092a864886f70d010101050003818d0030818902818100abdbb5d8780ce39f2c7f3bbb305462ba890311884cb115b07fbea17062d6beab9c79b0f91898352e13e8594a09b6990d8237699b3711f3c0855d9747d73a596d145e15ad23c669ed77c0b86ff21d11294128c25cdc2f52a64cc34724f2a2696cd8959702cd14ad0bbb62415dfc235282523d50f6db83cdd714c91ce4c1ccefe50203010001\n",
      "30819f300d06092a864886f70d010101050003818d0030818902818100bd6aec42894a488d4e78047f0656f5f14dfdfc3fa747f953de4fb83948fcb8706acc400ac18b25bb41f408777010fcc25ae234af098117da8a43ce2b7eabed0112665c7e5022b9b98de69cd9a88ad00e5906b7e40a3e755e576296d83ec2301199c50bd21e7262b4da79e9328c4292be25486a0a20b80c8a7ac462a0da17ce4d0203010001\n",
      "5\n",
      "2023-01-27 01:29:27.408152\n"
     ]
    }
   ],
   "source": [
    "t1.display_transaction()"
   ]
  },
  {
   "cell_type": "code",
   "execution_count": 113,
   "id": "3ed98909",
   "metadata": {},
   "outputs": [],
   "source": [
    "ani = Client()\n",
    "sonal = Client()"
   ]
  },
  {
   "cell_type": "code",
   "execution_count": 114,
   "id": "972db939",
   "metadata": {},
   "outputs": [
    {
     "name": "stdout",
     "output_type": "stream",
     "text": [
      "30819f300d06092a864886f70d010101050003818d0030818902818100d8ba2ad3afd731772080c6da31165d6123d314ff0344b7c41fb75a714f6f3dfdfa6aefc373dc5d766d93a62ce6df2e73136efc81abc0bb925fa45d565deaf97ec3df28d70d4ed5ca430321d97581ad17b23b7a034f5f192b4c1c137dc9be359ee577876570d490484bdedcb02853ce1a957cd179380db6a54a711b34fc7b4f570203010001\n"
     ]
    }
   ],
   "source": [
    "print(ani.identity)"
   ]
  },
  {
   "cell_type": "code",
   "execution_count": 115,
   "id": "b3d09bd7",
   "metadata": {},
   "outputs": [
    {
     "name": "stdout",
     "output_type": "stream",
     "text": [
      "30819f300d06092a864886f70d010101050003818d0030818902818100c680b49545f612dd6e823ac0172eebceb6058b4786c3a0e77f41ad21b679f6b3004e11fc406e2e1e1dfd1d92276e1516c88dbb9d435838bed2ef9274d4a69824c4f1d2605361ba7b300492db5e891293ab967832e1e7186022c4bdcd7278f7cfef7926dfa5f79b21d0467c8741e216a7ad17a6fd281b2302a67611b386fdf6750203010001\n"
     ]
    }
   ],
   "source": [
    "print(sonal.identity)"
   ]
  },
  {
   "cell_type": "code",
   "execution_count": 145,
   "id": "b6a15b68",
   "metadata": {},
   "outputs": [],
   "source": [
    "#creating genesis block\n",
    "ani = Client()\n",
    "first=Client()\n",
    "first.identity=\"Genesis\""
   ]
  },
  {
   "cell_type": "code",
   "execution_count": 146,
   "id": "177b2d81",
   "metadata": {},
   "outputs": [],
   "source": [
    "t0 = transaction (first,ani,500.0)"
   ]
  },
  {
   "cell_type": "code",
   "execution_count": 147,
   "id": "1216da66",
   "metadata": {},
   "outputs": [
    {
     "data": {
      "text/plain": [
       "'30819f300d06092a864886f70d010101050003818d0030818902818100d9abe91ad93805aefd3e248a7ee0209ce401b5a4611c4ae2e0d6c729b2f11cc11d4f883af5df3e7462fb84237e086aa997d544518dc1f63f17f8f02d6c80e0fb989bb3e9e2003a077fc128acaa0fccee552c64ec8b4456c36bc2e61685b1d9d0c7b95f39363998ec6094467c07a3fbef15f9ad1c636a0dd1fd21a44a1d94a2c70203010001'"
      ]
     },
     "execution_count": 147,
     "metadata": {},
     "output_type": "execute_result"
    }
   ],
   "source": [
    "ani.identity"
   ]
  },
  {
   "cell_type": "code",
   "execution_count": 148,
   "id": "e5a7ef41",
   "metadata": {},
   "outputs": [
    {
     "data": {
      "text/plain": [
       "OrderedDict([('sender', 'Genesis'),\n",
       "             ('recipient',\n",
       "              '30819f300d06092a864886f70d010101050003818d0030818902818100d9abe91ad93805aefd3e248a7ee0209ce401b5a4611c4ae2e0d6c729b2f11cc11d4f883af5df3e7462fb84237e086aa997d544518dc1f63f17f8f02d6c80e0fb989bb3e9e2003a077fc128acaa0fccee552c64ec8b4456c36bc2e61685b1d9d0c7b95f39363998ec6094467c07a3fbef15f9ad1c636a0dd1fd21a44a1d94a2c70203010001'),\n",
       "             ('value', 500.0),\n",
       "             ('time', datetime.datetime(2023, 1, 27, 1, 36, 38, 817540))])"
      ]
     },
     "execution_count": 148,
     "metadata": {},
     "output_type": "execute_result"
    }
   ],
   "source": [
    "t0.execute()"
   ]
  },
  {
   "cell_type": "code",
   "execution_count": 149,
   "id": "a9180844",
   "metadata": {},
   "outputs": [],
   "source": [
    "t = transaction(\n",
    "   ani,\n",
    "   sonal,\n",
    "   5.0\n",
    ")\n"
   ]
  },
  {
   "cell_type": "code",
   "execution_count": 150,
   "id": "384e1266",
   "metadata": {},
   "outputs": [
    {
     "data": {
      "text/plain": [
       "OrderedDict([('sender',\n",
       "              '30819f300d06092a864886f70d010101050003818d0030818902818100d9abe91ad93805aefd3e248a7ee0209ce401b5a4611c4ae2e0d6c729b2f11cc11d4f883af5df3e7462fb84237e086aa997d544518dc1f63f17f8f02d6c80e0fb989bb3e9e2003a077fc128acaa0fccee552c64ec8b4456c36bc2e61685b1d9d0c7b95f39363998ec6094467c07a3fbef15f9ad1c636a0dd1fd21a44a1d94a2c70203010001'),\n",
       "             ('recipient',\n",
       "              '30819f300d06092a864886f70d010101050003818d0030818902818100c680b49545f612dd6e823ac0172eebceb6058b4786c3a0e77f41ad21b679f6b3004e11fc406e2e1e1dfd1d92276e1516c88dbb9d435838bed2ef9274d4a69824c4f1d2605361ba7b300492db5e891293ab967832e1e7186022c4bdcd7278f7cfef7926dfa5f79b21d0467c8741e216a7ad17a6fd281b2302a67611b386fdf6750203010001'),\n",
       "             ('value', 5.0),\n",
       "             ('time', datetime.datetime(2023, 1, 27, 1, 36, 41, 784581))])"
      ]
     },
     "execution_count": 150,
     "metadata": {},
     "output_type": "execute_result"
    }
   ],
   "source": [
    "t.execute()"
   ]
  },
  {
   "cell_type": "code",
   "execution_count": 151,
   "id": "c51aa6d0",
   "metadata": {},
   "outputs": [
    {
     "data": {
      "text/plain": [
       "'8a20ec529e2c002850c47da460406cd7e6492ff3a9ed71c16dac9cd1222386dae115f914b4361769f0f20dd826628c0c4d80edeaef2d73f59af2ea8a60cd4f1cceb38b5908fd372ae9156d8d17899764a9c04be3769e6cc4e6923fba7f082f3c5c618b7923a3b31f6954fc914578d40833683bf4ec38ec67adc5fa2473718400'"
      ]
     },
     "execution_count": 151,
     "metadata": {},
     "output_type": "execute_result"
    }
   ],
   "source": [
    "t.sign_transaction()\n"
   ]
  },
  {
   "cell_type": "code",
   "execution_count": 152,
   "id": "1a6f997f",
   "metadata": {},
   "outputs": [],
   "source": [
    "#creating blockchain"
   ]
  },
  {
   "cell_type": "code",
   "execution_count": 153,
   "id": "df3ccde5",
   "metadata": {},
   "outputs": [],
   "source": [
    "class Block:\n",
    "    def __init__(self):\n",
    "        self.verified_txn=[]\n",
    "        self.prev_hash=\"\"\n",
    "        self.noonce=\"\""
   ]
  },
  {
   "cell_type": "code",
   "execution_count": 154,
   "id": "88159326",
   "metadata": {},
   "outputs": [],
   "source": [
    "\n",
    "\n",
    "block0 = Block()\n",
    "\n",
    "block0.prev_hash = None\n",
    "noonce = None\n",
    "\n",
    "block0.verified_txn.append (t0)\n"
   ]
  },
  {
   "cell_type": "code",
   "execution_count": 155,
   "id": "dab3da7a",
   "metadata": {},
   "outputs": [
    {
     "name": "stdout",
     "output_type": "stream",
     "text": [
      "Genesis\n",
      "30819f300d06092a864886f70d010101050003818d0030818902818100d9abe91ad93805aefd3e248a7ee0209ce401b5a4611c4ae2e0d6c729b2f11cc11d4f883af5df3e7462fb84237e086aa997d544518dc1f63f17f8f02d6c80e0fb989bb3e9e2003a077fc128acaa0fccee552c64ec8b4456c36bc2e61685b1d9d0c7b95f39363998ec6094467c07a3fbef15f9ad1c636a0dd1fd21a44a1d94a2c70203010001\n",
      "500.0\n",
      "2023-01-27 01:36:38.817540\n"
     ]
    }
   ],
   "source": [
    "t0.display_transaction()"
   ]
  },
  {
   "cell_type": "code",
   "execution_count": 156,
   "id": "5e064dad",
   "metadata": {},
   "outputs": [],
   "source": [
    "last_block_hash = \"\"\n",
    "last_transaction_index = 0\n"
   ]
  },
  {
   "cell_type": "code",
   "execution_count": 157,
   "id": "5231e9b6",
   "metadata": {},
   "outputs": [
    {
     "data": {
      "text/plain": [
       "112563601041"
      ]
     },
     "execution_count": 157,
     "metadata": {},
     "output_type": "execute_result"
    }
   ],
   "source": [
    "digest = hash (block0)\n",
    "last_block_hash = digest\n",
    "digest"
   ]
  },
  {
   "cell_type": "code",
   "execution_count": null,
   "id": "319cbcb6",
   "metadata": {},
   "outputs": [],
   "source": []
  },
  {
   "cell_type": "code",
   "execution_count": 158,
   "id": "3c7a94ee",
   "metadata": {},
   "outputs": [],
   "source": [
    "bitcoins=[]\n",
    "def dump_blockchain (self):\n",
    "    print (\"Number of blocks in the chain: \" + str(len (self)))\n",
    "    for x in range (len(bitcoins)):\n",
    "        block_temp = bitcoins[x]\n",
    "        print (\"block # \" + str(x))\n",
    "        for transaction in block_temp.verified_txn:\n",
    "                transaction.display_transaction()\n",
    "                print ('--------------')\n",
    "                print ('=====================================')\n"
   ]
  },
  {
   "cell_type": "code",
   "execution_count": 159,
   "id": "e065ca8c",
   "metadata": {},
   "outputs": [],
   "source": [
    "bitcoins.append (block0)"
   ]
  },
  {
   "cell_type": "code",
   "execution_count": 160,
   "id": "86d21472",
   "metadata": {},
   "outputs": [
    {
     "name": "stdout",
     "output_type": "stream",
     "text": [
      "Number of blocks in the chain: 1\n",
      "block # 0\n",
      "Genesis\n",
      "30819f300d06092a864886f70d010101050003818d0030818902818100d9abe91ad93805aefd3e248a7ee0209ce401b5a4611c4ae2e0d6c729b2f11cc11d4f883af5df3e7462fb84237e086aa997d544518dc1f63f17f8f02d6c80e0fb989bb3e9e2003a077fc128acaa0fccee552c64ec8b4456c36bc2e61685b1d9d0c7b95f39363998ec6094467c07a3fbef15f9ad1c636a0dd1fd21a44a1d94a2c70203010001\n",
      "500.0\n",
      "2023-01-27 01:36:38.817540\n",
      "--------------\n",
      "=====================================\n"
     ]
    }
   ],
   "source": [
    "dump_blockchain(bitcoins)"
   ]
  },
  {
   "cell_type": "code",
   "execution_count": 174,
   "id": "f878bc48",
   "metadata": {},
   "outputs": [],
   "source": [
    "block1 = Block()"
   ]
  },
  {
   "cell_type": "code",
   "execution_count": 175,
   "id": "a10a5e78",
   "metadata": {},
   "outputs": [
    {
     "name": "stdout",
     "output_type": "stream",
     "text": [
      "mining successful, found hash0009077a3b711a272177aad7c46279a616cfbc1b31cf0050f0b37219b43626d9 with noonce 4779\n"
     ]
    },
    {
     "data": {
      "text/plain": [
       "'0009077a3b711a272177aad7c46279a616cfbc1b31cf0050f0b37219b43626d9'"
      ]
     },
     "execution_count": 175,
     "metadata": {},
     "output_type": "execute_result"
    }
   ],
   "source": [
    "mine(\"block1\",3)"
   ]
  },
  {
   "cell_type": "code",
   "execution_count": 176,
   "id": "efe6acad",
   "metadata": {},
   "outputs": [],
   "source": [
    "block1.verified_txn.append(t)"
   ]
  },
  {
   "cell_type": "code",
   "execution_count": 177,
   "id": "00236e16",
   "metadata": {},
   "outputs": [],
   "source": [
    "block0.noonce=4779"
   ]
  },
  {
   "cell_type": "code",
   "execution_count": 178,
   "id": "e8cdffdd",
   "metadata": {},
   "outputs": [
    {
     "data": {
      "text/plain": [
       "4779"
      ]
     },
     "execution_count": 178,
     "metadata": {},
     "output_type": "execute_result"
    }
   ],
   "source": [
    "block0.noonce"
   ]
  },
  {
   "cell_type": "code",
   "execution_count": 179,
   "id": "3259d8e6",
   "metadata": {},
   "outputs": [],
   "source": [
    "block1.previous_hash=digest"
   ]
  },
  {
   "cell_type": "code",
   "execution_count": 180,
   "id": "ef63ad9f",
   "metadata": {},
   "outputs": [
    {
     "data": {
      "text/plain": [
       "112563601041"
      ]
     },
     "execution_count": 180,
     "metadata": {},
     "output_type": "execute_result"
    }
   ],
   "source": [
    "block1.previous_hash"
   ]
  },
  {
   "cell_type": "code",
   "execution_count": 181,
   "id": "580cd553",
   "metadata": {},
   "outputs": [],
   "source": [
    "bitcoins.append(block1)"
   ]
  },
  {
   "cell_type": "code",
   "execution_count": 182,
   "id": "73b4d86f",
   "metadata": {},
   "outputs": [
    {
     "name": "stdout",
     "output_type": "stream",
     "text": [
      "Number of blocks in the chain: 2\n",
      "block # 0\n",
      "Genesis\n",
      "30819f300d06092a864886f70d010101050003818d0030818902818100d9abe91ad93805aefd3e248a7ee0209ce401b5a4611c4ae2e0d6c729b2f11cc11d4f883af5df3e7462fb84237e086aa997d544518dc1f63f17f8f02d6c80e0fb989bb3e9e2003a077fc128acaa0fccee552c64ec8b4456c36bc2e61685b1d9d0c7b95f39363998ec6094467c07a3fbef15f9ad1c636a0dd1fd21a44a1d94a2c70203010001\n",
      "500.0\n",
      "2023-01-27 01:36:38.817540\n",
      "--------------\n",
      "=====================================\n",
      "30819f300d06092a864886f70d010101050003818d0030818902818100d9abe91ad93805aefd3e248a7ee0209ce401b5a4611c4ae2e0d6c729b2f11cc11d4f883af5df3e7462fb84237e086aa997d544518dc1f63f17f8f02d6c80e0fb989bb3e9e2003a077fc128acaa0fccee552c64ec8b4456c36bc2e61685b1d9d0c7b95f39363998ec6094467c07a3fbef15f9ad1c636a0dd1fd21a44a1d94a2c70203010001\n",
      "30819f300d06092a864886f70d010101050003818d0030818902818100c680b49545f612dd6e823ac0172eebceb6058b4786c3a0e77f41ad21b679f6b3004e11fc406e2e1e1dfd1d92276e1516c88dbb9d435838bed2ef9274d4a69824c4f1d2605361ba7b300492db5e891293ab967832e1e7186022c4bdcd7278f7cfef7926dfa5f79b21d0467c8741e216a7ad17a6fd281b2302a67611b386fdf6750203010001\n",
      "5.0\n",
      "2023-01-27 01:36:41.784581\n",
      "--------------\n",
      "=====================================\n",
      "30819f300d06092a864886f70d010101050003818d0030818902818100d9abe91ad93805aefd3e248a7ee0209ce401b5a4611c4ae2e0d6c729b2f11cc11d4f883af5df3e7462fb84237e086aa997d544518dc1f63f17f8f02d6c80e0fb989bb3e9e2003a077fc128acaa0fccee552c64ec8b4456c36bc2e61685b1d9d0c7b95f39363998ec6094467c07a3fbef15f9ad1c636a0dd1fd21a44a1d94a2c70203010001\n",
      "30819f300d06092a864886f70d010101050003818d0030818902818100c680b49545f612dd6e823ac0172eebceb6058b4786c3a0e77f41ad21b679f6b3004e11fc406e2e1e1dfd1d92276e1516c88dbb9d435838bed2ef9274d4a69824c4f1d2605361ba7b300492db5e891293ab967832e1e7186022c4bdcd7278f7cfef7926dfa5f79b21d0467c8741e216a7ad17a6fd281b2302a67611b386fdf6750203010001\n",
      "5.0\n",
      "2023-01-27 01:36:41.784581\n",
      "--------------\n",
      "=====================================\n",
      "block # 1\n",
      "30819f300d06092a864886f70d010101050003818d0030818902818100d9abe91ad93805aefd3e248a7ee0209ce401b5a4611c4ae2e0d6c729b2f11cc11d4f883af5df3e7462fb84237e086aa997d544518dc1f63f17f8f02d6c80e0fb989bb3e9e2003a077fc128acaa0fccee552c64ec8b4456c36bc2e61685b1d9d0c7b95f39363998ec6094467c07a3fbef15f9ad1c636a0dd1fd21a44a1d94a2c70203010001\n",
      "30819f300d06092a864886f70d010101050003818d0030818902818100c680b49545f612dd6e823ac0172eebceb6058b4786c3a0e77f41ad21b679f6b3004e11fc406e2e1e1dfd1d92276e1516c88dbb9d435838bed2ef9274d4a69824c4f1d2605361ba7b300492db5e891293ab967832e1e7186022c4bdcd7278f7cfef7926dfa5f79b21d0467c8741e216a7ad17a6fd281b2302a67611b386fdf6750203010001\n",
      "5.0\n",
      "2023-01-27 01:36:41.784581\n",
      "--------------\n",
      "=====================================\n"
     ]
    }
   ],
   "source": [
    "dump_blockchain(bitcoins)"
   ]
  },
  {
   "cell_type": "code",
   "execution_count": null,
   "id": "ed1bb0ca",
   "metadata": {},
   "outputs": [],
   "source": []
  },
  {
   "cell_type": "code",
   "execution_count": null,
   "id": "cef6a0d7",
   "metadata": {},
   "outputs": [],
   "source": []
  }
 ],
 "metadata": {
  "kernelspec": {
   "display_name": "Python 3 (ipykernel)",
   "language": "python",
   "name": "python3"
  },
  "language_info": {
   "codemirror_mode": {
    "name": "ipython",
    "version": 3
   },
   "file_extension": ".py",
   "mimetype": "text/x-python",
   "name": "python",
   "nbconvert_exporter": "python",
   "pygments_lexer": "ipython3",
   "version": "3.9.13"
  }
 },
 "nbformat": 4,
 "nbformat_minor": 5
}
